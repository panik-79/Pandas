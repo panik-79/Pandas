{
 "cells": [
  {
   "cell_type": "code",
   "execution_count": 26,
   "id": "52462b17",
   "metadata": {},
   "outputs": [],
   "source": [
    "import pandas as pd"
   ]
  },
  {
   "cell_type": "code",
   "execution_count": 27,
   "id": "568abee6",
   "metadata": {},
   "outputs": [
    {
     "data": {
      "text/plain": [
       "'1.5.1'"
      ]
     },
     "execution_count": 27,
     "metadata": {},
     "output_type": "execute_result"
    }
   ],
   "source": [
    "# pandas version check\n",
    "pd.__version__"
   ]
  },
  {
   "cell_type": "code",
   "execution_count": 28,
   "id": "f69ac08b",
   "metadata": {},
   "outputs": [
    {
     "name": "stdout",
     "output_type": "stream",
     "text": [
      "[1, 2, 5, 7.4, 'Hello']\n"
     ]
    }
   ],
   "source": [
    "list_1 = [1, 2, 5, 7.4, \"Hello\"]\n",
    "print(list_1)"
   ]
  },
  {
   "cell_type": "code",
   "execution_count": 29,
   "id": "97482dd8",
   "metadata": {},
   "outputs": [
    {
     "name": "stdout",
     "output_type": "stream",
     "text": [
      "0        1\n",
      "1        2\n",
      "2        5\n",
      "3      7.4\n",
      "4    Hello\n",
      "dtype: object\n"
     ]
    }
   ],
   "source": [
    "# creating series using list as argument\n",
    "series_1 = pd.Series(list_1)\n",
    "print(series_1)"
   ]
  },
  {
   "cell_type": "code",
   "execution_count": 30,
   "id": "88463e5b",
   "metadata": {},
   "outputs": [
    {
     "data": {
      "text/plain": [
       "pandas.core.series.Series"
      ]
     },
     "execution_count": 30,
     "metadata": {},
     "output_type": "execute_result"
    }
   ],
   "source": [
    "# type-check\n",
    "type(series_1)"
   ]
  },
  {
   "cell_type": "code",
   "execution_count": 31,
   "id": "0f717063",
   "metadata": {},
   "outputs": [
    {
     "name": "stdout",
     "output_type": "stream",
     "text": [
      "0    1.0\n",
      "1    2.0\n",
      "2    2.0\n",
      "3    6.0\n",
      "4    7.5\n",
      "dtype: float64\n"
     ]
    }
   ],
   "source": [
    "\n",
    "series_2 = pd.Series([1,2,2,6,7.5])\n",
    "print(series_2)"
   ]
  },
  {
   "cell_type": "code",
   "execution_count": 32,
   "id": "3d537e33",
   "metadata": {},
   "outputs": [
    {
     "name": "stdout",
     "output_type": "stream",
     "text": [
      "Series([], dtype: float64)\n"
     ]
    },
    {
     "name": "stderr",
     "output_type": "stream",
     "text": [
      "C:\\Users\\pujan\\AppData\\Local\\Temp\\ipykernel_14012\\1315067460.py:2: FutureWarning: The default dtype for empty Series will be 'object' instead of 'float64' in a future version. Specify a dtype explicitly to silence this warning.\n",
      "  empty_s = pd.Series([])\n"
     ]
    }
   ],
   "source": [
    "#creating an empty series\n",
    "empty_s = pd.Series([])\n",
    "print(empty_s)"
   ]
  },
  {
   "cell_type": "code",
   "execution_count": 33,
   "id": "b9331c45",
   "metadata": {},
   "outputs": [
    {
     "name": "stdout",
     "output_type": "stream",
     "text": [
      "a    1\n",
      "b    2\n",
      "c    3\n",
      "d    4\n",
      "dtype: int64\n"
     ]
    }
   ],
   "source": [
    "# index passed as argument\n",
    "series_3 = pd.Series([1, 2, 3, 4], index = ['a', 'b', 'c', 'd'])\n",
    "print(series_3)\n"
   ]
  },
  {
   "cell_type": "code",
   "execution_count": 34,
   "id": "2c2c09f4",
   "metadata": {},
   "outputs": [
    {
     "name": "stdout",
     "output_type": "stream",
     "text": [
      "a    1.0\n",
      "b    2.0\n",
      "c    3.0\n",
      "d    4.0\n",
      "dtype: float64\n"
     ]
    }
   ],
   "source": [
    "# datatype passed as an argument\n",
    "series_3 = pd.Series([1, 2, 3, 4], index = ['a', 'b', 'c', 'd'], dtype = float)\n",
    "print(series_3)\n"
   ]
  },
  {
   "cell_type": "code",
   "execution_count": 35,
   "id": "e724f0fe",
   "metadata": {},
   "outputs": [
    {
     "name": "stdout",
     "output_type": "stream",
     "text": [
      "a    1.0\n",
      "b    2.0\n",
      "c    3.0\n",
      "d    4.0\n",
      "Name: Data Values, dtype: float64\n"
     ]
    }
   ],
   "source": [
    "# column name passed as an argument\n",
    "series_3 = pd.Series([1, 2, 3, 4], index = ['a', 'b', 'c', 'd'], dtype = float, name = \"Data Values\")\n",
    "print(series_3)\n"
   ]
  },
  {
   "cell_type": "code",
   "execution_count": 36,
   "id": "b070c92a",
   "metadata": {},
   "outputs": [
    {
     "name": "stdout",
     "output_type": "stream",
     "text": [
      "0    0.4\n",
      "dtype: float64\n"
     ]
    }
   ],
   "source": [
    "# creating a series using a single scalar value\n",
    "scalar_s = pd.Series(0.4)\n",
    "print(scalar_s)"
   ]
  },
  {
   "cell_type": "code",
   "execution_count": 37,
   "id": "238e5819",
   "metadata": {},
   "outputs": [
    {
     "name": "stdout",
     "output_type": "stream",
     "text": [
      "1    0.4\n",
      "2    0.4\n",
      "3    0.4\n",
      "dtype: float64\n"
     ]
    }
   ],
   "source": [
    "# creating copies of a scalar \n",
    "scalar_s = pd.Series(0.4, index= ['1','2','3'])\n",
    "print(scalar_s)"
   ]
  },
  {
   "cell_type": "code",
   "execution_count": 38,
   "id": "ce0e295a",
   "metadata": {},
   "outputs": [
    {
     "name": "stdout",
     "output_type": "stream",
     "text": [
      "p    1\n",
      "q    2\n",
      "dtype: int64\n"
     ]
    }
   ],
   "source": [
    "# creating Series using dictionary\n",
    "dict_s = pd.Series({'p':1,'q':2})\n",
    "print(dict_s)"
   ]
  },
  {
   "cell_type": "code",
   "execution_count": 39,
   "id": "326a94b2",
   "metadata": {},
   "outputs": [
    {
     "data": {
      "text/plain": [
       "3"
      ]
     },
     "execution_count": 39,
     "metadata": {},
     "output_type": "execute_result"
    }
   ],
   "source": [
    "#accessing a value from index\n",
    "series_4 = pd.Series([1,2,3,4,5])\n",
    "series_4[2]"
   ]
  },
  {
   "cell_type": "code",
   "execution_count": 40,
   "id": "c9d79a89",
   "metadata": {},
   "outputs": [
    {
     "data": {
      "text/plain": [
       "0    1\n",
       "1    2\n",
       "2    3\n",
       "dtype: int64"
      ]
     },
     "execution_count": 40,
     "metadata": {},
     "output_type": "execute_result"
    }
   ],
   "source": [
    "# slicing\n",
    "series_4[0:3]"
   ]
  },
  {
   "cell_type": "code",
   "execution_count": 41,
   "id": "0b9a7909",
   "metadata": {},
   "outputs": [
    {
     "name": "stdout",
     "output_type": "stream",
     "text": [
      "5\n",
      "1\n"
     ]
    }
   ],
   "source": [
    "# max value and min value\n",
    "print(max(series_4))\n",
    "print(min(series_4))"
   ]
  },
  {
   "cell_type": "code",
   "execution_count": 42,
   "id": "bac6319e",
   "metadata": {},
   "outputs": [
    {
     "data": {
      "text/plain": [
       "0    1\n",
       "1    2\n",
       "2    3\n",
       "3    4\n",
       "4    5\n",
       "dtype: int64"
      ]
     },
     "execution_count": 42,
     "metadata": {},
     "output_type": "execute_result"
    }
   ],
   "source": [
    "series_4"
   ]
  },
  {
   "cell_type": "code",
   "execution_count": 43,
   "id": "3713a102",
   "metadata": {},
   "outputs": [
    {
     "data": {
      "text/plain": [
       "2    3\n",
       "3    4\n",
       "4    5\n",
       "dtype: int64"
      ]
     },
     "execution_count": 43,
     "metadata": {},
     "output_type": "execute_result"
    }
   ],
   "source": [
    "series_4[series_4>2]"
   ]
  },
  {
   "cell_type": "code",
   "execution_count": null,
   "id": "47766e7d",
   "metadata": {},
   "outputs": [],
   "source": []
  },
  {
   "cell_type": "code",
   "execution_count": null,
   "id": "14d062dc",
   "metadata": {},
   "outputs": [],
   "source": []
  },
  {
   "cell_type": "code",
   "execution_count": null,
   "id": "c5a73167",
   "metadata": {},
   "outputs": [],
   "source": []
  }
 ],
 "metadata": {
  "kernelspec": {
   "display_name": "Python 3 (ipykernel)",
   "language": "python",
   "name": "python3"
  },
  "language_info": {
   "codemirror_mode": {
    "name": "ipython",
    "version": 3
   },
   "file_extension": ".py",
   "mimetype": "text/x-python",
   "name": "python",
   "nbconvert_exporter": "python",
   "pygments_lexer": "ipython3",
   "version": "3.10.6"
  }
 },
 "nbformat": 4,
 "nbformat_minor": 5
}
